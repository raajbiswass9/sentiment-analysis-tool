{
  "nbformat": 4,
  "nbformat_minor": 0,
  "metadata": {
    "colab": {
      "name": "LogistinRegresion.ipynb",
      "provenance": [],
      "collapsed_sections": []
    },
    "kernelspec": {
      "name": "python3",
      "display_name": "Python 3"
    },
    "language_info": {
      "name": "python"
    },
    "accelerator": "GPU"
  },
  "cells": [
    {
      "cell_type": "code",
      "metadata": {
        "id": "LMaBK4Qg5kpq"
      },
      "source": [
        "import os\n",
        "from nltk.corpus import stopwords\n",
        "import re\n",
        "from sklearn.feature_extraction.text import CountVectorizer\n",
        "from sklearn.linear_model import LogisticRegression\n",
        "from sklearn.feature_extraction.text import TfidfTransformer\n",
        "import numpy as np\n",
        "from google.colab import drive"
      ],
      "execution_count": null,
      "outputs": []
    },
    {
      "cell_type": "code",
      "metadata": {
        "id": "CY7_KDpMcyTg"
      },
      "source": [
        "import pandas as pd\n",
        "from sklearn.metrics import confusion_matrix, classification_report, accuracy_score\n",
        "from sklearn.utils import shuffle"
      ],
      "execution_count": null,
      "outputs": []
    },
    {
      "cell_type": "code",
      "metadata": {
        "id": "HQecOzTktecD"
      },
      "source": [
        "import re\n",
        "import nltk\n",
        "import string\n",
        "# from nltk.tokenize import word_tokenize\n",
        "from nltk.corpus import stopwords\n",
        "from nltk.stem.porter import PorterStemmer"
      ],
      "execution_count": null,
      "outputs": []
    },
    {
      "cell_type": "code",
      "metadata": {
        "id": "it-3_JrTVKf6"
      },
      "source": [
        "import torch\n",
        "torch.cuda.empty_cache()"
      ],
      "execution_count": null,
      "outputs": []
    },
    {
      "cell_type": "code",
      "metadata": {
        "id": "KkiFNdiJ6u8f"
      },
      "source": [
        "# nltk.download('punkt')\n",
        "# nltk.download('stopwords')"
      ],
      "execution_count": null,
      "outputs": []
    },
    {
      "cell_type": "code",
      "metadata": {
        "colab": {
          "base_uri": "https://localhost:8080/"
        },
        "id": "_rkf_obY5CEb",
        "outputId": "5557a6bc-c25e-4134-c83c-108a3037003c"
      },
      "source": [
        "drive.mount('/content/drive/')"
      ],
      "execution_count": null,
      "outputs": [
        {
          "output_type": "stream",
          "text": [
            "Mounted at /content/drive/\n"
          ],
          "name": "stdout"
        }
      ]
    },
    {
      "cell_type": "code",
      "metadata": {
        "id": "c_Ojhii45IdV"
      },
      "source": [
        "df = pd.read_csv('/content/drive/My Drive/ML_models/cleaned_IMDB_Dataset.csv')"
      ],
      "execution_count": null,
      "outputs": []
    },
    {
      "cell_type": "code",
      "metadata": {
        "colab": {
          "base_uri": "https://localhost:8080/",
          "height": 206
        },
        "id": "CID5pL2V5Kd7",
        "outputId": "42205d4e-e3c6-44be-dcb0-95e20704ef96"
      },
      "source": [
        "df.head()"
      ],
      "execution_count": null,
      "outputs": [
        {
          "output_type": "execute_result",
          "data": {
            "text/html": [
              "<div>\n",
              "<style scoped>\n",
              "    .dataframe tbody tr th:only-of-type {\n",
              "        vertical-align: middle;\n",
              "    }\n",
              "\n",
              "    .dataframe tbody tr th {\n",
              "        vertical-align: top;\n",
              "    }\n",
              "\n",
              "    .dataframe thead th {\n",
              "        text-align: right;\n",
              "    }\n",
              "</style>\n",
              "<table border=\"1\" class=\"dataframe\">\n",
              "  <thead>\n",
              "    <tr style=\"text-align: right;\">\n",
              "      <th></th>\n",
              "      <th>review</th>\n",
              "      <th>sentiment</th>\n",
              "    </tr>\n",
              "  </thead>\n",
              "  <tbody>\n",
              "    <tr>\n",
              "      <th>0</th>\n",
              "      <td>one review mention watch oz episod hook right ...</td>\n",
              "      <td>1</td>\n",
              "    </tr>\n",
              "    <tr>\n",
              "      <th>1</th>\n",
              "      <td>wonder littl product br br film techniqu unass...</td>\n",
              "      <td>1</td>\n",
              "    </tr>\n",
              "    <tr>\n",
              "      <th>2</th>\n",
              "      <td>thought wonder way spend time hot summer weeke...</td>\n",
              "      <td>1</td>\n",
              "    </tr>\n",
              "    <tr>\n",
              "      <th>3</th>\n",
              "      <td>basic famili littl boy jake think zombi closet...</td>\n",
              "      <td>0</td>\n",
              "    </tr>\n",
              "    <tr>\n",
              "      <th>4</th>\n",
              "      <td>petter mattei love time money visual stun film...</td>\n",
              "      <td>1</td>\n",
              "    </tr>\n",
              "  </tbody>\n",
              "</table>\n",
              "</div>"
            ],
            "text/plain": [
              "                                              review  sentiment\n",
              "0  one review mention watch oz episod hook right ...          1\n",
              "1  wonder littl product br br film techniqu unass...          1\n",
              "2  thought wonder way spend time hot summer weeke...          1\n",
              "3  basic famili littl boy jake think zombi closet...          0\n",
              "4  petter mattei love time money visual stun film...          1"
            ]
          },
          "metadata": {
            "tags": []
          },
          "execution_count": 7
        }
      ]
    },
    {
      "cell_type": "code",
      "metadata": {
        "colab": {
          "base_uri": "https://localhost:8080/"
        },
        "id": "lsZuQbNb5XZ4",
        "outputId": "ccb895d5-6d41-4ecc-def9-e8b604060424"
      },
      "source": [
        "len(df)"
      ],
      "execution_count": null,
      "outputs": [
        {
          "output_type": "execute_result",
          "data": {
            "text/plain": [
              "20000"
            ]
          },
          "metadata": {
            "tags": []
          },
          "execution_count": 8
        }
      ]
    },
    {
      "cell_type": "code",
      "metadata": {
        "id": "eg1OhCWk7p8V"
      },
      "source": [
        "reviews_train_clean = df['review'].to_list()"
      ],
      "execution_count": null,
      "outputs": []
    },
    {
      "cell_type": "code",
      "metadata": {
        "id": "EOkHtupR8EXv"
      },
      "source": [
        "from sklearn.feature_extraction.text import CountVectorizer\n",
        "\n",
        "cv = CountVectorizer(binary=True)\n",
        "cv.fit(reviews_train_clean)\n",
        "X = cv.transform(reviews_train_clean)"
      ],
      "execution_count": null,
      "outputs": []
    },
    {
      "cell_type": "code",
      "metadata": {
        "id": "iVlj1TePE8wB"
      },
      "source": [
        "Y = df['sentiment']"
      ],
      "execution_count": null,
      "outputs": []
    },
    {
      "cell_type": "code",
      "metadata": {
        "id": "CB-5bcLwJEja"
      },
      "source": [
        "from sklearn.linear_model import LogisticRegression\n",
        "# import sklearn.linear_model as lm\n",
        "from sklearn.metrics import accuracy_score\n",
        "from sklearn.model_selection import train_test_split"
      ],
      "execution_count": null,
      "outputs": []
    },
    {
      "cell_type": "code",
      "metadata": {
        "id": "-vXLUYfiR5j4"
      },
      "source": [
        "X_train, X_val, y_train, y_val = train_test_split(X, Y, train_size = 0.10)"
      ],
      "execution_count": null,
      "outputs": []
    },
    {
      "cell_type": "code",
      "metadata": {
        "colab": {
          "base_uri": "https://localhost:8080/"
        },
        "id": "jUt0jaCPRklk",
        "outputId": "c1601262-cbe3-49f5-cdb4-0353be777f39"
      },
      "source": [
        "for c in [0.01, 0.05, 0.25, 0.5, 1]:\n",
        "    # lr = lm.LogisticRegression(C=c)\n",
        "    lr = LogisticRegression(C=c)\n",
        "    lr.fit(X_train, y_train)\n",
        "    print (\"Accuracy for C=%s: %s\" \n",
        "           % (c, accuracy_score(y_val, lr.predict(X_val))))"
      ],
      "execution_count": null,
      "outputs": [
        {
          "output_type": "stream",
          "text": [
            "Accuracy for C=0.01: 0.8313333333333334\n",
            "Accuracy for C=0.05: 0.8391111111111111\n",
            "Accuracy for C=0.25: 0.8383888888888889\n",
            "Accuracy for C=0.5: 0.8373888888888888\n",
            "Accuracy for C=1: 0.8353333333333334\n"
          ],
          "name": "stdout"
        }
      ]
    },
    {
      "cell_type": "code",
      "metadata": {
        "colab": {
          "base_uri": "https://localhost:8080/"
        },
        "id": "OCLkZ25DeO3j",
        "outputId": "929ac16a-f19c-4ada-848f-89cf03426a17"
      },
      "source": [
        "final_model = LogisticRegression(C=0.05)\n",
        "final_model.fit(X_train, y_train)"
      ],
      "execution_count": null,
      "outputs": [
        {
          "output_type": "execute_result",
          "data": {
            "text/plain": [
              "LogisticRegression(C=0.05, class_weight=None, dual=False, fit_intercept=True,\n",
              "                   intercept_scaling=1, l1_ratio=None, max_iter=100,\n",
              "                   multi_class='auto', n_jobs=None, penalty='l2',\n",
              "                   random_state=None, solver='lbfgs', tol=0.0001, verbose=0,\n",
              "                   warm_start=False)"
            ]
          },
          "metadata": {
            "tags": []
          },
          "execution_count": 42
        }
      ]
    },
    {
      "cell_type": "code",
      "metadata": {
        "id": "oP5EQ6lrelfH"
      },
      "source": [
        "prdicted_sentiment = final_model.predict(X_val)"
      ],
      "execution_count": null,
      "outputs": []
    },
    {
      "cell_type": "code",
      "metadata": {
        "colab": {
          "base_uri": "https://localhost:8080/"
        },
        "id": "ahXiItSde7Xj",
        "outputId": "0c018af1-3117-43f4-ce6a-1cd6ab7e2343"
      },
      "source": [
        "accuracy_score(y_val, prdicted_sentiment)"
      ],
      "execution_count": null,
      "outputs": [
        {
          "output_type": "execute_result",
          "data": {
            "text/plain": [
              "0.8391111111111111"
            ]
          },
          "metadata": {
            "tags": []
          },
          "execution_count": 44
        }
      ]
    },
    {
      "cell_type": "code",
      "metadata": {
        "colab": {
          "base_uri": "https://localhost:8080/"
        },
        "id": "dM9Biwruf42F",
        "outputId": "16091ec3-4ae2-4b81-858d-c1c4ed0ed6f0"
      },
      "source": [
        "print(classification_report(y_val, prdicted_sentiment, target_names=['negative_sentiment', 'positive_sentiment']))"
      ],
      "execution_count": null,
      "outputs": [
        {
          "output_type": "stream",
          "text": [
            "                    precision    recall  f1-score   support\n",
            "\n",
            "negative_sentiment       0.85      0.83      0.84      9078\n",
            "positive_sentiment       0.83      0.85      0.84      8922\n",
            "\n",
            "          accuracy                           0.84     18000\n",
            "         macro avg       0.84      0.84      0.84     18000\n",
            "      weighted avg       0.84      0.84      0.84     18000\n",
            "\n"
          ],
          "name": "stdout"
        }
      ]
    },
    {
      "cell_type": "code",
      "metadata": {
        "id": "A6GEg6SYT0hg"
      },
      "source": [
        "r = cv.transform([\"I hate you\"])"
      ],
      "execution_count": null,
      "outputs": []
    },
    {
      "cell_type": "code",
      "metadata": {
        "colab": {
          "base_uri": "https://localhost:8080/"
        },
        "id": "zgVCU1PwT6zQ",
        "outputId": "1cced417-f0a1-40dd-c91c-519be8d69beb"
      },
      "source": [
        "final_model.predict(r)"
      ],
      "execution_count": null,
      "outputs": [
        {
          "output_type": "execute_result",
          "data": {
            "text/plain": [
              "array([1])"
            ]
          },
          "metadata": {
            "tags": []
          },
          "execution_count": 46
        }
      ]
    },
    {
      "cell_type": "code",
      "metadata": {
        "id": "sdL1IhvtUS6g"
      },
      "source": [
        "# # final_model.save_pretrained(\"/content/drive/My Drive/ML_models/saved_models/logeistic_regression/lg_custom_model\")\n",
        "\n",
        "\n",
        "# model_save_name = 'lg_custom_model.pkl'\n",
        "# path = F\"/content/drive/My Drive/ML_models/saved_models/logeistic_regression/{model_save_name}\"\n",
        "\n",
        "# torch.save(final_model.state_dict(), path)\n",
        "\n",
        "# final_model.save_pretrained(\"/content/drive/My Drive/ML_models/saved_models/logeistic_regression/lg_custom_model.pkl\")"
      ],
      "execution_count": null,
      "outputs": []
    }
  ]
}